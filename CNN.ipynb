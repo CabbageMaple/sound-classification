{
 "cells": [
  {
   "cell_type": "code",
   "execution_count": 1,
   "id": "78c908d8-3e98-4171-9161-5cabc56bacc1",
   "metadata": {},
   "outputs": [],
   "source": [
    "import os\n",
    "\n",
    "import torch\n",
    "from torch.utils.data import DataLoader, Dataset\n",
    "import torch.nn as nn\n",
    "from torch import tensor\n",
    "\n",
    "import torchaudio\n",
    "from torch.nn.utils.rnn import pad_sequence\n",
    "from tqdm import tqdm\n",
    "import numpy as np\n",
    "\n",
    "import librosa\n"
   ]
  },
  {
   "cell_type": "code",
   "execution_count": 2,
   "id": "944756c4-108c-40cc-bdc0-229ea8ee06b2",
   "metadata": {},
   "outputs": [],
   "source": [
    "# 定义一个自定义数据集类\n",
    "class AudioDataset(Dataset):\n",
    "    def __init__(self, file_list, label_list):\n",
    "        self.file_list = file_list\n",
    "        self.label_list = label_list\n",
    "\n",
    "    def __len__(self):\n",
    "        return len(self.file_list)\n",
    "\n",
    "    def __getitem__(self, idx):\n",
    "        file_path = self.file_list[idx]\n",
    "        label = self.label_list[idx]\n",
    "\n",
    "        # 使用 Librosa 加载音频文件，并将其转换为梅尔频谱图\n",
    "        y, sr = librosa.load(file_path, sr=16000)\n",
    "        mel_spec = librosa.feature.melspectrogram(y=y, sr=sr, n_fft=1024, hop_length=512, n_mels=80)\n",
    "        mel_spec_db = librosa.power_to_db(mel_spec, ref=np.max)\n",
    "        mel_spec_db = np.expand_dims(mel_spec_db, axis=0)\n",
    "\n",
    "        # 返回梅尔频谱图和标签\n",
    "        return mel_spec_db, label\n"
   ]
  },
  {
   "cell_type": "code",
   "execution_count": 18,
   "id": "e64e5d48-9abc-4bed-b56c-ad9a6ea163c7",
   "metadata": {},
   "outputs": [],
   "source": [
    "class AudioCNN(nn.Module):\n",
    "    def __init__(self):\n",
    "        super(AudioCNN, self).__init__()\n",
    "        self.conv1 = nn.Conv2d(1, 32, kernel_size=(3,3), stride=(1,1), padding=(1,1))\n",
    "        self.bn1 = nn.BatchNorm2d(32)\n",
    "        self.relu1 = nn.ReLU(inplace=True)\n",
    "        self.pool1 = nn.MaxPool2d(kernel_size=(2,2), stride=(2,2))\n",
    "\n",
    "        self.conv2 = nn.Conv2d(32, 64, kernel_size=(3,3), stride=(1,1), padding=(1,1))\n",
    "        self.bn2 = nn.BatchNorm2d(64)\n",
    "        self.relu2 = nn.ReLU(inplace=True)\n",
    "        self.pool2 = nn.MaxPool2d(kernel_size=(2,2), stride=(2,2))\n",
    "\n",
    "        self.fc1 = nn.Linear(49920, 128)\n",
    "        self.bn3 = nn.BatchNorm1d(128)\n",
    "        self.relu3 = nn.ReLU(inplace=True)\n",
    "\n",
    "        self.fc2 = nn.Linear(128, 20)\n",
    "\n",
    "    def forward(self, x):\n",
    "        x = self.conv1(x)\n",
    "        x = self.bn1(x)\n",
    "        x = self.relu1(x)\n",
    "        x = self.pool1(x)\n",
    "\n",
    "        x = self.conv2(x)\n",
    "        x = self.bn2(x)\n",
    "        x = self.relu2(x)\n",
    "        x = self.pool2(x)\n",
    "\n",
    "        x = x.view(x.size(0), -1)\n",
    "        x = self.fc1(x)\n",
    "        x = self.bn3(x)\n",
    "        x = self.relu3(x)\n",
    "        x = self.fc2(x)\n",
    "\n",
    "        return x\n"
   ]
  },
  {
   "cell_type": "code",
   "execution_count": 4,
   "id": "0a81b150-96c8-4ee5-8c6c-31016363a285",
   "metadata": {},
   "outputs": [],
   "source": [
    "idx_to_label = \"Red-billed Starling,Intermediate Egret,Blue-and-white Flycatcher,Pin-tailed Snipe,Eastern Marsh-Harrier,Manchurian Reed Warbler,Chinese Pond-Heron,Rock Bunting,Isabelline Shrike,Japanese Scops-Owl,Red-backed Shrike,Bronzed Drongo,Claudia's Leaf Warbler,Common Myna,Koklass Pheasant,Barred Warbler,Besra,Pallid Harrier,Tickell's Leaf Warbler,Gray-cheeked Warbler\".split(',')\n",
    "\n",
    "NUM_CLASSES = len(idx_to_label)\n",
    "\n",
    "label_to_idx = {idx_to_label[i]: i+1 for i in range(NUM_CLASSES)}\n",
    "\n",
    "train_data_path = 'data/train'\n",
    "test_data_path = 'data/test'\n",
    "\n",
    "label_to_idx = {value: key for key, value in label_to_idx.items()}"
   ]
  },
  {
   "cell_type": "code",
   "execution_count": 5,
   "id": "e57f08b6-e61f-4e52-8ee9-98ccc1cc52dc",
   "metadata": {
    "collapsed": true
   },
   "outputs": [
    {
     "name": "stderr",
     "output_type": "stream",
     "text": [
      "100%|███████████████████████████████████████| 99/99 [00:00<00:00, 231200.50it/s]\n",
      "100%|██████████████████████████████████████████| 6/6 [00:00<00:00, 24197.91it/s]\n",
      "100%|█████████████████████████████████████| 100/100 [00:00<00:00, 164160.63it/s]\n",
      "100%|███████████████████████████████████████| 99/99 [00:00<00:00, 239743.70it/s]\n",
      "100%|████████████████████████████████████████| 21/21 [00:00<00:00, 34595.59it/s]\n",
      "100%|████████████████████████████████████████| 39/39 [00:00<00:00, 93526.50it/s]\n",
      "100%|███████████████████████████████████████| 16/16 [00:00<00:00, 104530.94it/s]\n",
      "100%|█████████████████████████████████████| 100/100 [00:00<00:00, 418593.21it/s]\n",
      "100%|███████████████████████████████████████| 98/98 [00:00<00:00, 201688.81it/s]\n",
      "100%|████████████████████████████████████████| 15/15 [00:00<00:00, 51569.31it/s]\n",
      "100%|█████████████████████████████████████| 100/100 [00:00<00:00, 129854.61it/s]\n",
      "100%|█████████████████████████████████████| 100/100 [00:00<00:00, 170085.32it/s]\n",
      "100%|███████████████████████████████████████| 99/99 [00:00<00:00, 327731.73it/s]\n",
      "100%|█████████████████████████████████████| 100/100 [00:00<00:00, 239811.55it/s]\n",
      "100%|███████████████████████████████████████| 30/30 [00:00<00:00, 123482.94it/s]\n",
      "100%|█████████████████████████████████████| 100/100 [00:00<00:00, 170361.66it/s]\n",
      "100%|███████████████████████████████████████| 32/32 [00:00<00:00, 271146.93it/s]\n",
      "100%|███████████████████████████████████████| 47/47 [00:00<00:00, 184408.13it/s]\n",
      "100%|███████████████████████████████████████| 59/59 [00:00<00:00, 279620.27it/s]\n",
      "100%|███████████████████████████████████████| 99/99 [00:00<00:00, 270512.11it/s]\n"
     ]
    }
   ],
   "source": [
    "train_files=[]\n",
    "train_labels =[]\n",
    "for label in label_to_idx:\n",
    "        label_dir = f'{train_data_path}/{label}'\n",
    "        for wav_file in tqdm(os.listdir(label_dir)):\n",
    "            train_files.append(label_dir + f'/{wav_file}')\n",
    "            train_labels.append(label)"
   ]
  },
  {
   "cell_type": "code",
   "execution_count": 6,
   "id": "ccd2ec63-9b44-485d-8e36-616825b29fae",
   "metadata": {},
   "outputs": [
    {
     "data": {
      "text/plain": [
       "1359"
      ]
     },
     "execution_count": 6,
     "metadata": {},
     "output_type": "execute_result"
    }
   ],
   "source": [
    "len(train_files)"
   ]
  },
  {
   "cell_type": "code",
   "execution_count": 7,
   "id": "46e3fe82-5964-4bf6-87f9-c0f044db5083",
   "metadata": {},
   "outputs": [
    {
     "data": {
      "text/plain": [
       "1359"
      ]
     },
     "execution_count": 7,
     "metadata": {},
     "output_type": "execute_result"
    }
   ],
   "source": [
    "len(train_labels)"
   ]
  },
  {
   "cell_type": "code",
   "execution_count": 9,
   "id": "bdb27edb",
   "metadata": {},
   "outputs": [],
   "source": [
    "train_f = train_files[:1100]\n",
    "train_l = train_labels[:1100]\n",
    "test_f = train_files[1100:]\n",
    "test_l = train_labels[1100:]"
   ]
  },
  {
   "cell_type": "code",
   "execution_count": 10,
   "id": "4d67276a",
   "metadata": {},
   "outputs": [
    {
     "data": {
      "text/plain": [
       "1100"
      ]
     },
     "execution_count": 10,
     "metadata": {},
     "output_type": "execute_result"
    }
   ],
   "source": [
    "len(train_f)"
   ]
  },
  {
   "cell_type": "code",
   "execution_count": 11,
   "id": "1484caec-9084-46ad-b606-a68e65cc8cf6",
   "metadata": {},
   "outputs": [],
   "source": [
    "train_dataset = AudioDataset(train_f, train_l)\n",
    "train_loader = DataLoader(train_dataset, batch_size=32, shuffle=True)\n",
    "\n",
    "test_dataset = AudioDataset(test_f, test_l)\n",
    "test_loader = DataLoader(test_dataset, batch_size=32, shuffle=False)\n"
   ]
  },
  {
   "cell_type": "code",
   "execution_count": 19,
   "id": "20523ce2",
   "metadata": {},
   "outputs": [],
   "source": [
    "model = AudioCNN()\n",
    "criterion = nn.CrossEntropyLoss()\n",
    "\n",
    "optimizer = torch.optim.Adam(model.parameters(), lr=0.001)"
   ]
  },
  {
   "cell_type": "code",
   "execution_count": 20,
   "id": "eda84864",
   "metadata": {},
   "outputs": [
    {
     "data": {
      "text/plain": [
       "AudioCNN(\n",
       "  (conv1): Conv2d(1, 32, kernel_size=(3, 3), stride=(1, 1), padding=(1, 1))\n",
       "  (bn1): BatchNorm2d(32, eps=1e-05, momentum=0.1, affine=True, track_running_stats=True)\n",
       "  (relu1): ReLU(inplace=True)\n",
       "  (pool1): MaxPool2d(kernel_size=(2, 2), stride=(2, 2), padding=0, dilation=1, ceil_mode=False)\n",
       "  (conv2): Conv2d(32, 64, kernel_size=(3, 3), stride=(1, 1), padding=(1, 1))\n",
       "  (bn2): BatchNorm2d(64, eps=1e-05, momentum=0.1, affine=True, track_running_stats=True)\n",
       "  (relu2): ReLU(inplace=True)\n",
       "  (pool2): MaxPool2d(kernel_size=(2, 2), stride=(2, 2), padding=0, dilation=1, ceil_mode=False)\n",
       "  (fc1): Linear(in_features=49920, out_features=128, bias=True)\n",
       "  (bn3): BatchNorm1d(128, eps=1e-05, momentum=0.1, affine=True, track_running_stats=True)\n",
       "  (relu3): ReLU(inplace=True)\n",
       "  (fc2): Linear(in_features=128, out_features=20, bias=True)\n",
       ")"
      ]
     },
     "execution_count": 20,
     "metadata": {},
     "output_type": "execute_result"
    }
   ],
   "source": [
    "device = torch.device(\"cuda\" if torch.cuda.is_available() else \"cpu\")\n",
    "model.to(device)"
   ]
  },
  {
   "cell_type": "code",
   "execution_count": 21,
   "id": "a6d5b980",
   "metadata": {},
   "outputs": [],
   "source": [
    "def train(epoch):\n",
    "    for idx, (inputs, labels) in enumerate(train_loader):\n",
    "        inputs = inputs.to(device)\n",
    "        labels = labels.to(device)\n",
    "\n",
    "        optimizer.zero_grad()\n",
    "        outputs = model(inputs)\n",
    "\n",
    "        loss = criterion(outputs, labels)\n",
    "        loss.backward()\n",
    "        optimizer.step()\n",
    "\n",
    "        if idx % 10 == 0:\n",
    "            print('epoch: {}, loss: {}'.format(epoch, loss.item()))\n",
    "            #torch.save(model.state_dict(), './model/yesno_net.pkl')\n",
    "            #torch.save(optimizer.state_dict(), './model/yesno_optimizer.pkl')\n",
    "        idx = idx + 1"
   ]
  },
  {
   "cell_type": "code",
   "execution_count": 22,
   "id": "63908b84",
   "metadata": {},
   "outputs": [],
   "source": [
    "def test():\n",
    "    loss_list = []\n",
    "    sample_num = 0\n",
    "    acc_num = 0\n",
    "\n",
    "    for idx, (inputs, labels) in enumerate(test_loader):\n",
    "        inputs = inputs.to(device)\n",
    "        labels = labels.to(device)\n",
    "\n",
    "        with torch.no_grad():\n",
    "            outputs = model(inputs)\n",
    "\n",
    "            cur_loss = criterion(outputs, labels).cpu()\n",
    "            # outputs中的每一项均为包含两个位于0和1之间的浮点数的数组，较大浮点数所在位置即为预测值\n",
    "            pred = outputs.argmax(dim=1, keepdim=True)\n",
    "            # 统计预测正确的个数\n",
    "            acc_num = acc_num + pred.eq(labels.view_as(pred)).sum().item()\n",
    "            # 记录预测的样本数\n",
    "            sample_num = sample_num + labels.size()[0]\n",
    "\n",
    "            loss_list.append(cur_loss)\n",
    "\n",
    "    print('平均损失率:{}, 平均准确率:{}'.format(np.mean(loss_list), acc_num / sample_num))"
   ]
  },
  {
   "cell_type": "code",
   "execution_count": 23,
   "id": "39fa4624",
   "metadata": {},
   "outputs": [
    {
     "name": "stdout",
     "output_type": "stream",
     "text": [
      "epoch: 10, loss: 3.003204107284546\n",
      "epoch: 10, loss: 2.3967456817626953\n",
      "epoch: 10, loss: 2.2718915939331055\n",
      "epoch: 10, loss: 2.063397169113159\n"
     ]
    }
   ],
   "source": [
    "train(10)"
   ]
  },
  {
   "cell_type": "code",
   "execution_count": null,
   "id": "44bd4bb0",
   "metadata": {},
   "outputs": [],
   "source": []
  }
 ],
 "metadata": {
  "kernelspec": {
   "display_name": "Python 3 (ipykernel)",
   "language": "python",
   "name": "python3"
  },
  "language_info": {
   "codemirror_mode": {
    "name": "ipython",
    "version": 3
   },
   "file_extension": ".py",
   "mimetype": "text/x-python",
   "name": "python",
   "nbconvert_exporter": "python",
   "pygments_lexer": "ipython3",
   "version": "3.8.13"
  }
 },
 "nbformat": 4,
 "nbformat_minor": 5
}
